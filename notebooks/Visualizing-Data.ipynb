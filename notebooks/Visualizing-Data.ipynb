{
 "cells": [
  {
   "cell_type": "code",
   "id": "initial_id",
   "metadata": {
    "collapsed": true
   },
   "source": "import pandas as pd",
   "outputs": [],
   "execution_count": null
  },
  {
   "metadata": {},
   "cell_type": "code",
   "source": "df = pd.read_csv('../data/raw/cleaned_merged_seasons.csv', low_memory=False)",
   "id": "79aabbed1535c24d",
   "outputs": [],
   "execution_count": null
  },
  {
   "metadata": {
    "ExecuteTime": {
     "end_time": "2025-10-14T15:49:51.647312Z",
     "start_time": "2025-10-14T15:49:51.614311Z"
    }
   },
   "cell_type": "code",
   "source": "df.info()",
   "id": "88475c4f1d05511e",
   "outputs": [
    {
     "name": "stdout",
     "output_type": "stream",
     "text": [
      "<class 'pandas.core.frame.DataFrame'>\n",
      "RangeIndex: 96169 entries, 0 to 96168\n",
      "Data columns (total 37 columns):\n",
      " #   Column             Non-Null Count  Dtype  \n",
      "---  ------             --------------  -----  \n",
      " 0   season_x           96169 non-null  object \n",
      " 1   name               96169 non-null  object \n",
      " 2   position           96169 non-null  object \n",
      " 3   team_x             76317 non-null  object \n",
      " 4   assists            96169 non-null  int64  \n",
      " 5   bonus              96169 non-null  int64  \n",
      " 6   bps                96169 non-null  int64  \n",
      " 7   clean_sheets       96169 non-null  int64  \n",
      " 8   creativity         96169 non-null  float64\n",
      " 9   element            96169 non-null  int64  \n",
      " 10  fixture            96169 non-null  int64  \n",
      " 11  goals_conceded     96169 non-null  int64  \n",
      " 12  goals_scored       96169 non-null  int64  \n",
      " 13  ict_index          96169 non-null  float64\n",
      " 14  influence          96169 non-null  float64\n",
      " 15  kickoff_time       96169 non-null  object \n",
      " 16  minutes            96169 non-null  int64  \n",
      " 17  opponent_team      96169 non-null  int64  \n",
      " 18  opp_team_name      96169 non-null  object \n",
      " 19  own_goals          96169 non-null  int64  \n",
      " 20  penalties_missed   96169 non-null  int64  \n",
      " 21  penalties_saved    96169 non-null  int64  \n",
      " 22  red_cards          96169 non-null  int64  \n",
      " 23  round              96169 non-null  int64  \n",
      " 24  saves              96169 non-null  int64  \n",
      " 25  selected           96169 non-null  int64  \n",
      " 26  team_a_score       96169 non-null  float64\n",
      " 27  team_h_score       96169 non-null  float64\n",
      " 28  threat             96169 non-null  float64\n",
      " 29  total_points       96169 non-null  int64  \n",
      " 30  transfers_balance  96169 non-null  int64  \n",
      " 31  transfers_in       96169 non-null  int64  \n",
      " 32  transfers_out      96169 non-null  int64  \n",
      " 33  value              96169 non-null  int64  \n",
      " 34  was_home           96169 non-null  bool   \n",
      " 35  yellow_cards       96169 non-null  int64  \n",
      " 36  GW                 96169 non-null  int64  \n",
      "dtypes: bool(1), float64(6), int64(24), object(6)\n",
      "memory usage: 26.5+ MB\n"
     ]
    }
   ],
   "execution_count": 24
  },
  {
   "metadata": {},
   "cell_type": "code",
   "source": "df.groupby('season_x')",
   "id": "75da25991ea6982f",
   "outputs": [],
   "execution_count": null
  },
  {
   "metadata": {
    "ExecuteTime": {
     "end_time": "2025-10-14T15:50:21.399969Z",
     "start_time": "2025-10-14T15:50:21.395770Z"
    }
   },
   "cell_type": "code",
   "source": "df['fixture']",
   "id": "7c4c09c89663ee46",
   "outputs": [
    {
     "data": {
      "text/plain": [
       "0         10\n",
       "1          3\n",
       "2          8\n",
       "3          7\n",
       "4          6\n",
       "        ... \n",
       "96164    377\n",
       "96165    377\n",
       "96166    372\n",
       "96167    372\n",
       "96168    376\n",
       "Name: fixture, Length: 96169, dtype: int64"
      ]
     },
     "execution_count": 26,
     "metadata": {},
     "output_type": "execute_result"
    }
   ],
   "execution_count": 26
  },
  {
   "metadata": {},
   "cell_type": "code",
   "source": "df['season_x'].value_counts()",
   "id": "358aef2353653076",
   "outputs": [],
   "execution_count": null
  },
  {
   "metadata": {},
   "cell_type": "code",
   "source": "df[df['season_x'] == '2016-17']['team_x'].isna().sum() + df[df['season_x'] == '2017-18']['team_x'].isna().sum() ",
   "id": "a9a107ac316e59d8",
   "outputs": [],
   "execution_count": null
  },
  {
   "metadata": {},
   "cell_type": "code",
   "source": "df[df['team_x'].isna()]['name'].nunique()",
   "id": "41a9b2f9f1d1e69",
   "outputs": [],
   "execution_count": null
  },
  {
   "metadata": {},
   "cell_type": "code",
   "source": [
    "missing_team_count = df['team_x'].isna().sum()\n",
    "unique_players_missing_team = df[df['team_x'].isna()]['name'].nunique()\n",
    "\n",
    "print(f\"Total missing team entries: {missing_team_count}\")\n",
    "print(f\"Unique players with missing teams: {unique_players_missing_team}\")\n"
   ],
   "id": "d635a05e6cd0c87a",
   "outputs": [],
   "execution_count": null
  },
  {
   "metadata": {
    "ExecuteTime": {
     "end_time": "2025-10-14T15:49:12.337201Z",
     "start_time": "2025-10-14T15:49:12.330137Z"
    }
   },
   "cell_type": "code",
   "source": "df['position'].value_counts()",
   "id": "937157a081f1cbc0",
   "outputs": [
    {
     "data": {
      "text/plain": [
       "position\n",
       "MID    39163\n",
       "DEF    33683\n",
       "FWD    12669\n",
       "GK     10553\n",
       "GKP      101\n",
       "Name: count, dtype: int64"
      ]
     },
     "execution_count": 23,
     "metadata": {},
     "output_type": "execute_result"
    }
   ],
   "execution_count": 23
  },
  {
   "metadata": {
    "ExecuteTime": {
     "end_time": "2025-10-14T16:10:07.018455Z",
     "start_time": "2025-10-14T16:10:06.551577Z"
    }
   },
   "cell_type": "code",
   "source": [
    "import importlib\n",
    "import scripts.data_cleaning as data_cleaning\n",
    "importlib.reload(data_cleaning)\n",
    "\n",
    "cols_to_drop = [\n",
    "        \"selected\", \"transfers_in\", \"transfers_out\",\n",
    "        \"transfers_balance\", \"value\", \"GW\"\n",
    "]\n",
    "\n",
    "df_cleaned = data_cleaning.drop_columns_save_interim(df, cols_to_drop)"
   ],
   "id": "8c594763b3274f6b",
   "outputs": [
    {
     "name": "stdout",
     "output_type": "stream",
     "text": [
      "Cleaned file saved to: /Users/youssefmalek/PycharmProjects/FPL-ACL-Team-28/data/interim/dataset_post_drop.csv\n"
     ]
    }
   ],
   "execution_count": 34
  },
  {
   "metadata": {},
   "cell_type": "code",
   "outputs": [],
   "execution_count": null,
   "source": "",
   "id": "1014b647fc1b4466"
  }
 ],
 "metadata": {
  "kernelspec": {
   "display_name": "Python 3",
   "language": "python",
   "name": "python3"
  },
  "language_info": {
   "codemirror_mode": {
    "name": "ipython",
    "version": 2
   },
   "file_extension": ".py",
   "mimetype": "text/x-python",
   "name": "python",
   "nbconvert_exporter": "python",
   "pygments_lexer": "ipython2",
   "version": "2.7.6"
  }
 },
 "nbformat": 4,
 "nbformat_minor": 5
}
