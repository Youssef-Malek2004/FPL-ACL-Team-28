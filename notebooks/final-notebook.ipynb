{
 "cells": [
  {
   "cell_type": "code",
   "id": "initial_id",
   "metadata": {
    "collapsed": true,
    "ExecuteTime": {
     "end_time": "2025-10-20T19:28:56.154847Z",
     "start_time": "2025-10-20T19:28:56.022003Z"
    }
   },
   "source": [
    "import pandas as pd\n",
    "from sklearn.preprocessing import LabelEncoder\n",
    "from tf_models.FFNNRegressorModel import FFNNRegressor\n",
    "from scripts.feature_engineering import season_start_year\n",
    "from typing import List, Tuple, Optional\n",
    "from sklearn.metrics import mean_absolute_error, mean_squared_error, r2_score\n",
    "import numpy as np\n",
    "import seaborn as sns\n",
    "import matplotlib.pyplot as plt"
   ],
   "outputs": [],
   "execution_count": 79
  },
  {
   "metadata": {},
   "cell_type": "markdown",
   "source": "Let's add helpers for Data Cleaning",
   "id": "6fdd798ba338b4b9"
  },
  {
   "metadata": {
    "ExecuteTime": {
     "end_time": "2025-10-20T18:44:44.588292Z",
     "start_time": "2025-10-20T18:44:44.584586Z"
    }
   },
   "cell_type": "code",
   "source": [
    "def drop_columns_save_interim(\n",
    "    df: pd.DataFrame,\n",
    "    cols_to_drop: list = None,\n",
    "    filename: str = \"dataset\",\n",
    "    output_subdir: str = \"interim\",\n",
    ") -> pd.DataFrame:\n",
    "    \"\"\"\n",
    "    Drops specified columns from a DataFrame.\n",
    "    Saves the cleaned DataFrame in ../data/interim relative to this script.\n",
    "\n",
    "    Parameters\n",
    "    ----------\n",
    "    df : pd.DataFrame\n",
    "        Input DataFrame.\n",
    "    cols_to_drop : list, optional\n",
    "        Columns to Drop, by default None\n",
    "    filename : str, optional\n",
    "        Base name for saved CSV files (default is 'dataset').\n",
    "    output_subdir : str, optional\n",
    "        Subdirectory inside /data (default is 'interim').\n",
    "\n",
    "    Returns\n",
    "    -------\n",
    "    pd.DataFrame\n",
    "        The cleaned DataFrame with specified columns removed.\n",
    "    \"\"\"\n",
    "\n",
    "    # Determine absolute path: ../data/interim relative to this script\n",
    "    script_dir = os.path.dirname(os.getcwd())\n",
    "    data_dir = os.path.abspath(os.path.join(script_dir, \"..\", \"data\", output_subdir))\n",
    "\n",
    "    # Ensure directories exist\n",
    "    os.makedirs(data_dir, exist_ok=True)\n",
    "\n",
    "    # Drop them from the main DataFrame\n",
    "    df_reduced = df.drop(columns=[col for col in cols_to_drop if col in df.columns])\n",
    "\n",
    "    # Build save paths\n",
    "    cleaned_path = os.path.join(data_dir, f\"{filename}_post_drop.csv\")\n",
    "\n",
    "    # Save both files\n",
    "    df_reduced.to_csv(cleaned_path, index=False)\n",
    "\n",
    "    print(f\"Cleaned file saved to: {cleaned_path}\")\n",
    "\n",
    "    return df_reduced\n",
    "\n",
    "def normalize_position_column(\n",
    "    df: pd.DataFrame,\n",
    "    column: str = \"position\",\n",
    "    filename: str = \"dataset\",\n",
    "    output_subdir: str = \"interim\",\n",
    ") -> pd.DataFrame:\n",
    "    \"\"\"\n",
    "    Normalizes position values — e.g., replaces 'GKP' with 'GK' — and saves the cleaned dataset.\n",
    "\n",
    "    Parameters\n",
    "    ----------\n",
    "    df : pd.DataFrame\n",
    "        Input DataFrame.\n",
    "    column : str, optional\n",
    "        The column to normalize (default is 'position').\n",
    "    filename : str, optional\n",
    "        Base name for saved file (default is 'dataset').\n",
    "    output_subdir : str, optional\n",
    "        Subdirectory under /data to save (default is 'interim').\n",
    "\n",
    "    Returns\n",
    "    -------\n",
    "    pd.DataFrame\n",
    "        Updated DataFrame with normalized position values.\n",
    "    \"\"\"\n",
    "\n",
    "    # Determine save path (../data/interim)\n",
    "    script_dir = os.path.dirname(os.path.abspath(os.getcwd()))\n",
    "    data_dir = os.path.abspath(os.path.join(script_dir, \"..\", \"data\", output_subdir))\n",
    "    os.makedirs(data_dir, exist_ok=True)\n",
    "\n",
    "    df = df.copy()\n",
    "    df[column] = df[column].apply(lambda x: \"GK\" if x == \"GKP\" else x)\n",
    "\n",
    "    # Save cleaned file\n",
    "    cleaned_path = os.path.join(data_dir, f\"{filename}_normalized.csv\")\n",
    "    df.to_csv(cleaned_path, index=False)\n",
    "\n",
    "    return df\n"
   ],
   "id": "be3095acb3b97b61",
   "outputs": [],
   "execution_count": 46
  },
  {
   "metadata": {},
   "cell_type": "markdown",
   "source": "Let's add helpers to help us in feature engineering.",
   "id": "f3e5be68cc15adee"
  },
  {
   "metadata": {
    "ExecuteTime": {
     "end_time": "2025-10-20T18:44:44.899823Z",
     "start_time": "2025-10-20T18:44:44.889284Z"
    }
   },
   "cell_type": "code",
   "source": [
    "def one_hot_encode_columns(\n",
    "    df: pd.DataFrame,\n",
    "    columns_to_encode: list,\n",
    "    filename: str = \"dataset\",\n",
    "    output_subdir: str = \"interim\",\n",
    "    drop_first: bool = True,\n",
    ") -> pd.DataFrame:\n",
    "    \"\"\"\n",
    "    One-hot encodes specified categorical columns in the given DataFrame.\n",
    "    Saves both the encoded DataFrame and a record of encoded column names.\n",
    "\n",
    "    Parameters\n",
    "    ----------\n",
    "    df : pd.DataFrame\n",
    "        Input DataFrame containing categorical columns.\n",
    "    columns_to_encode : list\n",
    "        List of column names to one-hot encode.\n",
    "    filename : str, optional\n",
    "        Base name for saved CSVs (default is 'dataset').\n",
    "    output_subdir : str, optional\n",
    "        Folder under /data where outputs will be saved (default is 'interim').\n",
    "    drop_first : bool, optional\n",
    "        Whether to drop the first level of each encoded variable\n",
    "        (useful for regression models to avoid dummy-variable trap).\n",
    "\n",
    "    Returns\n",
    "    -------\n",
    "    pd.DataFrame\n",
    "        The transformed DataFrame with one-hot encoded columns.\n",
    "    \"\"\"\n",
    "\n",
    "    # --- Setup directories ---\n",
    "    root_data_dir = os.path.join(os.getcwd(), \"data\")\n",
    "    output_folder = os.path.join(root_data_dir, output_subdir)\n",
    "    os.makedirs(output_folder, exist_ok=True)\n",
    "\n",
    "    # --- One-hot encode ---\n",
    "    encoded_df = pd.get_dummies(df, columns=columns_to_encode, drop_first=drop_first)\n",
    "\n",
    "    # --- Save outputs ---\n",
    "    encoded_path = os.path.join(output_folder, f\"{filename}_encoded.csv\")\n",
    "\n",
    "    encoded_df.to_csv(encoded_path, index=False)\n",
    "\n",
    "    return encoded_df\n",
    "\n",
    "\n",
    "\n",
    "def label_encode_column(\n",
    "    df: pd.DataFrame,\n",
    "    column: str,\n",
    "    filename: str = \"dataset\",\n",
    "    output_subdir: str = \"interim\",\n",
    ") -> tuple[pd.DataFrame, LabelEncoder]:\n",
    "    \"\"\"\n",
    "    Label-encodes a single categorical column (e.g., player names).\n",
    "\n",
    "    Parameters\n",
    "    ----------\n",
    "    df : pd.DataFrame\n",
    "        Input DataFrame.\n",
    "    column : str\n",
    "        Column name to label-encode.\n",
    "    filename : str, optional\n",
    "        Base name for reference/logging only (default is 'dataset').\n",
    "    output_subdir : str, optional\n",
    "        Folder under /data where outputs would be saved if persisted\n",
    "        (kept here for signature consistency).\n",
    "\n",
    "    Returns\n",
    "    -------\n",
    "    tuple[pd.DataFrame, LabelEncoder]\n",
    "        - DataFrame with a new column '<column>_encoded'\n",
    "        - The fitted LabelEncoder (for reverse mapping)\n",
    "    \"\"\"\n",
    "\n",
    "    # Determine absolute path: ../data/interim relative to this script\n",
    "    script_dir = os.path.dirname(os.path.abspath(os.getcwd()))\n",
    "    data_dir = os.path.abspath(os.path.join(script_dir, \"..\", \"data\", output_subdir))\n",
    "\n",
    "    os.makedirs(data_dir, exist_ok=True)\n",
    "\n",
    "    le = LabelEncoder()\n",
    "    df[f\"{column}_encoded\"] = le.fit_transform(df[column].astype(str))\n",
    "\n",
    "    df = df.drop(columns=[column])\n",
    "\n",
    "    print(f\"Column '{column}' label-encoded → new column '{column}_encoded'\")\n",
    "\n",
    "    cleaned_path = os.path.join(data_dir, f\"{filename}_label_encoded.csv\")\n",
    "\n",
    "    df.to_csv(cleaned_path, index=False)\n",
    "\n",
    "    return df, le\n",
    "\n",
    "def map_bool_to_int(\n",
    "    df: pd.DataFrame,\n",
    "    columns_to_map: list,\n",
    "    filename: str = \"dataset\",\n",
    "    output_subdir: str = \"interim\",\n",
    ") -> pd.DataFrame:\n",
    "    \"\"\"\n",
    "    Parameters\n",
    "    ----------\n",
    "    df : pd.DataFrame\n",
    "        Input DataFrame containing categorical columns.\n",
    "    columns_to_map : list\n",
    "        List of column names to map to int.\n",
    "    filename : str, optional\n",
    "        Base name for saved CSVs (default is 'dataset').\n",
    "    output_subdir : str, optional\n",
    "        Folder under /data where outputs will be saved (default is 'interim').\n",
    "\n",
    "    Returns\n",
    "    -------\n",
    "    pd.DataFrame\n",
    "        The transformed DataFrame with mapped columns.\n",
    "    \"\"\"\n",
    "\n",
    "    # --- Setup directories ---\n",
    "    root_data_dir = os.path.join(os.getcwd(), \"data\")\n",
    "    output_folder = os.path.join(root_data_dir, output_subdir)\n",
    "    os.makedirs(output_folder, exist_ok=True)\n",
    "\n",
    "    # --- Map bool values to int ---\n",
    "    mapped_df = df.copy()\n",
    "    for col in columns_to_map:\n",
    "        mapped_df[col] = mapped_df[col].map(lambda x: 1 if str(x) == \"True\" else 0)\n",
    "\n",
    "    # --- Save outputs ---\n",
    "    mapped_path = os.path.join(output_folder, f\"{filename}_mapped.csv\")\n",
    "\n",
    "    mapped_df.to_csv(mapped_path, index=False)\n",
    "\n",
    "    return mapped_df\n",
    "\n",
    "\n",
    "def add_form(\n",
    "    df: pd.DataFrame,\n",
    "    filename: str = \"dataset\",\n",
    "    output_subdir: str = \"interim\",\n",
    "    name_column: str = \"name_encoded\",\n",
    ") -> pd.DataFrame:\n",
    "    \"\"\"\n",
    "    Adds 'form' for each (name, season_x) as the average of the PREVIOUS `window`\n",
    "    gameweeks' total_points, divided by `divisor`, using up to `min_periods` available\n",
    "    past GWs (no leakage). Saves to ../data/<output_subdir>/<filename>.csv.\n",
    "\n",
    "    Expects columns: ['name'/'name_encoded', 'season_x', 'round', 'total_points'] exactly.\n",
    "    \"\"\"\n",
    "    window = 4\n",
    "    divisor = 10.0\n",
    "    min_periods = 1\n",
    "    fill_strategy = \"zero\"\n",
    "\n",
    "    required = [name_column, \"season_x\", \"round\", \"total_points\"]\n",
    "    missing = [c for c in required if c not in df.columns]\n",
    "    if missing:\n",
    "        raise ValueError(f\"Missing required columns: {missing}\")\n",
    "\n",
    "    out = df.copy()\n",
    "    out[\"round\"] = pd.to_numeric(out[\"round\"], errors=\"coerce\")\n",
    "    out = out.sort_values([name_column, \"season_x\", \"round\"])\n",
    "\n",
    "    form = (\n",
    "        out.groupby([name_column, \"season_x\"])[\"total_points\"]\n",
    "           .apply(lambda s: s.shift(1).rolling(window, min_periods=min_periods).mean() / divisor)\n",
    "           .reset_index(level=[0, 1], drop=True)\n",
    "    )\n",
    "\n",
    "    if fill_strategy == \"zero\":\n",
    "        form = form.fillna(0.0)\n",
    "\n",
    "    out[\"form\"] = form\n",
    "\n",
    "    script_dir = os.path.dirname(os.path.abspath(os.getcwd()))\n",
    "    data_dir = os.path.abspath(os.path.join(script_dir, \"..\", \"data\", output_subdir))\n",
    "    os.makedirs(data_dir, exist_ok=True)\n",
    "\n",
    "    out_path = os.path.join(data_dir, f\"{filename}.csv\")\n",
    "    out.to_csv(out_path, index=False)\n",
    "    print(f\"Form-added file saved to: {out_path}\")\n",
    "\n",
    "    return out\n",
    "\n",
    "def add_team_and_opponent_goals(\n",
    "    df: pd.DataFrame,\n",
    "    filename: str = \"dataset\",\n",
    "    output_subdir: str = \"interim\",\n",
    ") -> pd.DataFrame:\n",
    "    \"\"\"\n",
    "    Parameters\n",
    "    ----------\n",
    "    df : pd.DataFrame\n",
    "        Input DataFrame containing categorical columns.\n",
    "    filename : str, optional\n",
    "        Base name for saved CSVs (default is 'dataset').\n",
    "    output_subdir : str, optional\n",
    "        Folder under /data where outputs will be saved (default is 'interim').\n",
    "\n",
    "    Returns\n",
    "    -------\n",
    "    pd.DataFrame\n",
    "        The transformed DataFrame with added features columns.\n",
    "    \"\"\"\n",
    "\n",
    "    # --- Setup directories ---\n",
    "    root_data_dir = os.path.join(os.getcwd(), \"data\")\n",
    "    output_folder = os.path.join(root_data_dir, output_subdir)\n",
    "    os.makedirs(output_folder, exist_ok=True)\n",
    "\n",
    "    # --- Add Features ---\n",
    "    df_with_features = df.copy()\n",
    "\n",
    "    df_with_features['ally_goals'] = df_with_features.apply(\n",
    "        lambda x: x['team_h_score'] if x['was_home'] == True else x['team_a_score'],\n",
    "        axis=1\n",
    "    )\n",
    "\n",
    "    df_with_features['opponent_goals'] = df_with_features.apply(\n",
    "        lambda x: x['team_a_score'] if x['was_home'] == True else x['team_h_score'],\n",
    "        axis=1\n",
    "    )\n",
    "\n",
    "    # --- Save outputs ---\n",
    "    mapped_path = os.path.join(output_folder, f\"{filename}_mapped.csv\")\n",
    "    df_with_features.to_csv(mapped_path, index=False)\n",
    "\n",
    "    return df_with_features\n",
    "\n",
    "import pandas as pd\n",
    "import os\n",
    "\n",
    "def add_lag_features(\n",
    "    df: pd.DataFrame,\n",
    "    columns: list[str],\n",
    "    lags: list[int] = [1, 2],\n",
    "    filename: str = \"dataset\",\n",
    "    output_subdir: str = \"interim\"\n",
    ") -> pd.DataFrame:\n",
    "    \"\"\"\n",
    "    Adds lag features (e.g., lag 1 and lag 2) for specified columns.\n",
    "\n",
    "    Parameters\n",
    "    ----------\n",
    "    df : pd.DataFrame\n",
    "        Input DataFrame, typically time-sorted.\n",
    "    columns : list of str\n",
    "        Columns to generate lag features for.\n",
    "    lags : list of int, optional\n",
    "        Lag steps to apply (default is [1, 2]).\n",
    "    filename : str, optional\n",
    "        Base name for saved CSV (default is 'dataset').\n",
    "    output_subdir : str, optional\n",
    "        Folder under /data where output is saved (default is 'interim').\n",
    "\n",
    "    Returns\n",
    "    -------\n",
    "    pd.DataFrame\n",
    "        DataFrame with new lag columns added.\n",
    "    \"\"\"\n",
    "    # --- Setup directories ---\n",
    "    root_data_dir = os.path.join(os.getcwd(), \"data\")\n",
    "    output_folder = os.path.join(root_data_dir, output_subdir)\n",
    "    os.makedirs(output_folder, exist_ok=True)\n",
    "\n",
    "    # --- Add lag features ---\n",
    "    df_with_lags = df.copy()\n",
    "    for col in columns:\n",
    "        if col not in df.columns:\n",
    "            print(f\"Skipping '{col}' — not found in DataFrame.\")\n",
    "            continue\n",
    "        for lag in lags:\n",
    "            df_with_lags[f\"{col}_lag{lag}\"] = df_with_lags[col].shift(lag)\n",
    "\n",
    "    # --- Save outputs ---\n",
    "    lagged_path = os.path.join(output_folder, f\"{filename}_lagged.csv\")\n",
    "    df_with_lags.to_csv(lagged_path, index=False)\n",
    "\n",
    "    return df_with_lags\n",
    "\n",
    "def add_upcoming_total_points(\n",
    "    df: pd.DataFrame,\n",
    "    player_col: str = \"name_encoded\",\n",
    "    season_col: str = \"season_x\",\n",
    "    week_col: str = \"round\",\n",
    "    points_col: str = \"total_points\",\n",
    ") -> pd.DataFrame:\n",
    "    \"\"\"\n",
    "    Adds a new column `upcoming_total_points` representing next week's points\n",
    "    for each player-season, shifted by -1 in chronological order.\n",
    "    \"\"\"\n",
    "    df_sorted = df.sort_values([player_col, season_col, week_col])\n",
    "    df_sorted[\"upcoming_total_points\"] = (\n",
    "        df_sorted.groupby([player_col, season_col])[points_col].shift(-1)\n",
    "    )\n",
    "    df_sorted = df_sorted.dropna(subset=[\"upcoming_total_points\"]).reset_index(drop=True)\n",
    "    return df_sorted\n",
    "\n",
    "def season_start_year(season_str: str) -> int:\n",
    "    s = str(season_str)\n",
    "    try:\n",
    "        return int(s.split(\"-\")[0])\n",
    "    except Exception:\n",
    "        return int(float(s))"
   ],
   "id": "322798ac68f45cc1",
   "outputs": [],
   "execution_count": 47
  },
  {
   "metadata": {},
   "cell_type": "markdown",
   "source": "Let's add a helper that will be used to visualize the splitting of the data",
   "id": "f2577f9ce178934b"
  },
  {
   "metadata": {
    "ExecuteTime": {
     "end_time": "2025-10-20T18:44:45.224955Z",
     "start_time": "2025-10-20T18:44:45.218980Z"
    }
   },
   "cell_type": "code",
   "source": [
    "def summarize_round_splits(\n",
    "    df: pd.DataFrame,\n",
    "    train_idx: pd.Index,\n",
    "    valid_idx: pd.Index,\n",
    "    test_idx: pd.Index,\n",
    "    season_col: str = \"season_x\",\n",
    "    week_col: str = \"round\",\n",
    ") -> pd.DataFrame:\n",
    "    \"\"\"\n",
    "    For each season, list which rounds belong to TRAIN / VALID / TEST.\n",
    "    Prints a compact view and returns a summary DataFrame.\n",
    "    \"\"\"\n",
    "    df2 = df[[season_col, week_col]].copy()\n",
    "    df2[\"_subset\"] = \"UNASSIGNED\"\n",
    "    df2.loc[train_idx.intersection(df2.index), \"_subset\"] = \"TRAIN\"\n",
    "    df2.loc[valid_idx.intersection(df2.index), \"_subset\"] = \"VALID\"\n",
    "    df2.loc[test_idx.intersection(df2.index),  \"_subset\"] = \"TEST\"\n",
    "\n",
    "    # Keep only assigned rows\n",
    "    df2 = df2[df2[\"_subset\"] != \"UNASSIGNED\"]\n",
    "\n",
    "    # Build per-season summary\n",
    "    rows = []\n",
    "    for season, g in df2.groupby(season_col, sort=True):\n",
    "        out = {\"season\": season}\n",
    "        for subset in [\"TRAIN\", \"VALID\", \"TEST\"]:\n",
    "            rounds = sorted(g.loc[g[\"_subset\"] == subset, week_col].unique().tolist())\n",
    "            if rounds:\n",
    "                rng = f\"{min(rounds)}–{max(rounds)}\"\n",
    "                # If you also want the exact list uncomment next line:\n",
    "                # out[f\"{subset}_rounds_list\"] = rounds\n",
    "                out[f\"{subset}_rounds\"] = rng\n",
    "                out[f\"{subset}_count\"] = len(rounds)\n",
    "            else:\n",
    "                out[f\"{subset}_rounds\"] = \"—\"\n",
    "                out[f\"{subset}_count\"] = 0\n",
    "\n",
    "        # Simple temporal sanity flags\n",
    "        def _minmax(sub):\n",
    "            r = g.loc[g[\"_subset\"] == sub, week_col]\n",
    "            return (r.min(), r.max()) if len(r) else (None, None)\n",
    "\n",
    "        tr_min, tr_max = _minmax(\"TRAIN\")\n",
    "        va_min, va_max = _minmax(\"VALID\")\n",
    "        te_min, te_max = _minmax(\"TEST\")\n",
    "\n",
    "        # Check monotonic order: TRAIN ≤ VALID ≤ TEST (where present)\n",
    "        ok_train_valid = (tr_max is None or va_min is None) or (tr_max <= va_min)\n",
    "        ok_valid_test  = (va_max is None or te_min is None) or (va_max <= te_min)\n",
    "        out[\"order_ok\"] = bool(ok_train_valid and ok_valid_test)\n",
    "\n",
    "        rows.append(out)\n",
    "\n",
    "    summary = pd.DataFrame(rows).sort_values(\"season\").reset_index(drop=True)\n",
    "\n",
    "    # Pretty print\n",
    "    print(\"\\nRound allocation by season (min–max rounds per subset):\")\n",
    "    for _, r in summary.iterrows():\n",
    "        print(\n",
    "            f\"  {r['season']}: \"\n",
    "            f\"TRAIN {r['TRAIN_rounds']} ({r['TRAIN_count']}) | \"\n",
    "            f\"VALID {r['VALID_rounds']} ({r['VALID_count']}) | \"\n",
    "            f\"TEST {r['TEST_rounds']} ({r['TEST_count']}) \"\n",
    "            f\"| order_ok={r['order_ok']}\"\n",
    "        )\n",
    "\n",
    "    return summary"
   ],
   "id": "9fa3194717d9ab9d",
   "outputs": [],
   "execution_count": 48
  },
  {
   "metadata": {},
   "cell_type": "markdown",
   "source": "First let's import our raw data before any data cleaning or feature engineering.",
   "id": "2daa9cf7592fc90d"
  },
  {
   "metadata": {
    "ExecuteTime": {
     "end_time": "2025-10-20T18:44:46.459328Z",
     "start_time": "2025-10-20T18:44:46.253672Z"
    }
   },
   "cell_type": "code",
   "source": "df = pd.read_csv('../data/raw/cleaned_merged_seasons.csv', low_memory=False)",
   "id": "ed697b0c5451ade6",
   "outputs": [],
   "execution_count": 49
  },
  {
   "metadata": {},
   "cell_type": "markdown",
   "source": [
    "We start our Feature Engineering process by adding 2 columns, a column called 'Team Goals' and another called 'Opponent Goals', it is a way for the model to understand which team is the player's and which team is the Opponents instead of the interaction feature between was_home and home_team_goals and away_team_goals.\n",
    "\n",
    "We will report our performance with and without it. "
   ],
   "id": "88277aa7f6ad7054"
  },
  {
   "metadata": {},
   "cell_type": "markdown",
   "source": "Finally let's add helpers to help us in training our model.",
   "id": "7c85e1730e4e368"
  },
  {
   "metadata": {
    "ExecuteTime": {
     "end_time": "2025-10-20T18:44:48.394033Z",
     "start_time": "2025-10-20T18:44:48.383757Z"
    }
   },
   "cell_type": "code",
   "source": [
    "def train_ffnn(\n",
    "    X_train, y_train, X_valid, y_valid,\n",
    "    params: Optional[dict] = None\n",
    "):\n",
    "    \"\"\"\n",
    "    Initializes and trains a feed-forward neural network for regression.\n",
    "    Returns a model with a .predict(...) method for compatibility with your evaluate_model().\n",
    "    \"\"\"\n",
    "    if params is None:\n",
    "        params = {\n",
    "            \"hidden_units\": (256, 128, 64,32),\n",
    "            \"dropout\": 0.10,\n",
    "            \"l2\": 1e-4,\n",
    "            \"lr\": 1e-3,\n",
    "            \"epochs\": 400,\n",
    "            \"batch_size\": 1024,\n",
    "            \"patience\": 25,\n",
    "            \"seed\": 42,\n",
    "            \"verbose\": 0,\n",
    "        }\n",
    "    model = FFNNRegressor(**params)\n",
    "    model.fit(X_train, y_train, X_valid, y_valid)\n",
    "    return model\n",
    "\n",
    "def build_xy(\n",
    "    df: pd.DataFrame,\n",
    "    target_col: str = \"upcoming_total_points\",\n",
    "    drop_cols: Optional[List[str]] = None,\n",
    "    keep_player_id: bool = True,\n",
    "    player_col: str = \"name_encoded\",\n",
    ") -> Tuple[pd.DataFrame, pd.Series]:\n",
    "    \"\"\"\n",
    "    Separates features (X) and target (y).\n",
    "    If keep_player_id=True, keeps `name_encoded` in X.\n",
    "    \"\"\"\n",
    "    if drop_cols is None:\n",
    "        drop_cols = [\"season_x\", \"round\"]\n",
    "\n",
    "    if not keep_player_id:\n",
    "        drop_cols = drop_cols + [player_col]\n",
    "\n",
    "    feature_cols = [c for c in df.columns if c not in drop_cols + [target_col]]\n",
    "    X = df[feature_cols]\n",
    "    y = df[target_col]\n",
    "    return X, y\n",
    "\n",
    "def evaluate_model(\n",
    "    model,\n",
    "    X_test: pd.DataFrame, y_test: pd.Series,\n",
    "    X_train: pd.DataFrame = None, y_train: pd.Series = None,\n",
    "    X_valid: pd.DataFrame = None, y_valid: pd.Series = None,\n",
    ") -> dict:\n",
    "    def _metrics(y_true, y_pred):\n",
    "        mae = mean_absolute_error(y_true, y_pred)\n",
    "        mse = mean_squared_error(y_true, y_pred)\n",
    "        rmse = np.sqrt(mse)\n",
    "        r2 = r2_score(y_true, y_pred)\n",
    "        return {\"MAE\": mae, \"MSE\": mse, \"RMSE\": rmse, \"R2\": r2}\n",
    "\n",
    "    report = {}\n",
    "\n",
    "    if X_train is not None and y_train is not None:\n",
    "        preds_tr = model.predict(X_train)\n",
    "        report[\"train\"] = _metrics(y_train, preds_tr)\n",
    "\n",
    "    if X_valid is not None and y_valid is not None:\n",
    "        preds_val = model.predict(X_valid)\n",
    "        report[\"valid\"] = _metrics(y_valid, preds_val)\n",
    "\n",
    "    preds_te = model.predict(X_test)\n",
    "    report[\"test\"] = _metrics(y_test, preds_te)\n",
    "\n",
    "    # Pretty print\n",
    "    print(\"\\n📊 Evaluation Metrics:\")\n",
    "    for split in [\"train\", \"valid\", \"test\"]:\n",
    "        if split in report:\n",
    "            m = report[split]\n",
    "            print(f\"  {split.upper()}:  MAE={m['MAE']:.4f}  RMSE={m['RMSE']:.4f}  R2={m['R2']:.4f}\")\n",
    "\n",
    "    return report\n",
    "\n",
    "def auto_global_temporal_split_inseason(\n",
    "    df: pd.DataFrame,\n",
    "    season_col: str = \"season_x\",\n",
    "    week_col: str = \"round\",\n",
    "    train_frac: float = 0.8,\n",
    "    valid_frac: float = 0.1,\n",
    "    test_frac: float = 0.1,\n",
    "    split_train_valid: bool = True,\n",
    "    split_valid_test: bool = True,\n",
    "    ratio_train_valid: float = 0.5,  # e.g., 0.5 ⇒ first half of boundary season to TRAIN, rest to VALID\n",
    "    ratio_valid_test: float = 0.5,   # e.g., 0.5 ⇒ first half of boundary season to VALID, rest to TEST\n",
    ") -> Tuple[pd.Index, pd.Index, pd.Index, List[int]]:\n",
    "    \"\"\"\n",
    "    Global chronological split by season start year, with optional *within-season* (by rounds) splitting\n",
    "    at the TRAIN↔VALID boundary and/or VALID↔TEST boundary.\n",
    "\n",
    "    If TRAIN and VALID touch the same season:\n",
    "        - earlier rounds (<= floor(ratio_train_valid * max_round_in_that_season)) → TRAIN\n",
    "        - later  rounds  (> ...) → VALID\n",
    "\n",
    "    If VALID and TEST touch the same season:\n",
    "        - earlier rounds (<= floor(ratio_valid_test * max_round_in_that_season)) → VALID\n",
    "        - later  rounds  (> ...) → TEST\n",
    "\n",
    "    Guarantees non-empty buckets when n_seasons ≥ 3.\n",
    "    \"\"\"\n",
    "    assert abs(train_frac + valid_frac + test_frac - 1.0) < 1e-9, \"Fractions must sum to 1.\"\n",
    "\n",
    "    years = sorted({season_start_year(s) for s in df[season_col].unique()})\n",
    "    n = len(years)\n",
    "    if n < 3:\n",
    "        raise ValueError(\"Need at least 3 distinct seasons for train/valid/test.\")\n",
    "\n",
    "    # Base year cuts (use floor; keep at least 1 season per bucket)\n",
    "    cut1 = max(1, int(np.floor(n * train_frac)))\n",
    "    cut2 = max(cut1 + 1, int(np.floor(n * (train_frac + valid_frac))))\n",
    "    if cut2 >= n:  # ensure non-empty test\n",
    "        cut2 = n - 1\n",
    "\n",
    "    years_train_list = years[:cut1]\n",
    "    years_valid_list = years[cut1:cut2]\n",
    "    years_test_list  = years[cut2:]\n",
    "\n",
    "    # If valid ended empty, steal one from train\n",
    "    if len(years_valid_list) == 0:\n",
    "        years_train_list = years[:cut1-1]\n",
    "        years_valid_list = [years[cut1-1]]\n",
    "        years_test_list  = years[cut1:]\n",
    "\n",
    "    years_train, years_valid, years_test = set(years_train_list), set(years_valid_list), set(years_test_list)\n",
    "\n",
    "    df2 = df.copy()\n",
    "    df2[\"_year\"] = df2[season_col].map(season_start_year)\n",
    "    df2 = df2.sort_values([season_col, week_col], kind=\"mergesort\")\n",
    "\n",
    "    # Initial whole-season masks\n",
    "    train_mask = df2[\"_year\"].isin(years_train)\n",
    "    valid_mask = df2[\"_year\"].isin(years_valid)\n",
    "    test_mask  = df2[\"_year\"].isin(years_test)\n",
    "\n",
    "    # Helper: move early/late rounds between masks for a *single* boundary season\n",
    "    def split_boundary(season_year: int, early_to: str, ratio: float):\n",
    "        # max round for that season (across all players)\n",
    "        season_rows = (df2[\"_year\"] == season_year)\n",
    "        if not season_rows.any():\n",
    "            return\n",
    "        max_round = int(df2.loc[season_rows, week_col].max())\n",
    "        thr = max(1, int(np.floor(ratio * max_round)))  # e.g., 38 * 0.5 ⇒ 19\n",
    "\n",
    "        early_rows = season_rows & (df2[week_col] <= thr)\n",
    "        late_rows  = season_rows & (df2[week_col] >  thr)\n",
    "\n",
    "        # Clear current assignment for that season\n",
    "        nonlocal train_mask, valid_mask, test_mask\n",
    "        train_mask = train_mask & (~season_rows)\n",
    "        valid_mask = valid_mask & (~season_rows)\n",
    "        test_mask  = test_mask  & (~season_rows)\n",
    "\n",
    "        # Reassign early/late to the two adjacent sets\n",
    "        if early_to == \"train\":         # TRAIN | VALID boundary\n",
    "            train_mask |= early_rows\n",
    "            valid_mask |= late_rows\n",
    "        elif early_to == \"valid\":       # VALID | TEST boundary\n",
    "            valid_mask |= early_rows\n",
    "            test_mask  |= late_rows\n",
    "        else:\n",
    "            raise ValueError(\"early_to must be 'train' or 'valid'.\")\n",
    "\n",
    "    # TRAIN↔VALID boundary season = first VALID season (if any)\n",
    "    if split_train_valid and len(years_valid_list) > 0:\n",
    "        b1 = years_valid_list[0]\n",
    "        # Only split if TRAIN and VALID are adjacent seasons (i.e., boundary not separated by gaps is fine)\n",
    "        # This always holds by construction; we just apply the half-split.\n",
    "        split_boundary(b1, early_to=\"train\", ratio=ratio_train_valid)\n",
    "\n",
    "    # VALID↔TEST boundary season = first TEST season (if any)\n",
    "    if split_valid_test and len(years_test_list) > 0:\n",
    "        b2 = years_test_list[0]\n",
    "        split_boundary(b2, early_to=\"valid\", ratio=ratio_valid_test)\n",
    "\n",
    "    # Final indices\n",
    "    train_idx = df2.index[train_mask]\n",
    "    valid_idx = df2.index[valid_mask]\n",
    "    test_idx  = df2.index[test_mask]\n",
    "\n",
    "    # Safety: ensure non-empty\n",
    "    if len(train_idx) == 0 or len(valid_idx) == 0 or len(test_idx) == 0:\n",
    "        # Fallback to strict season buckets (last two seasons valid/test)\n",
    "        years_train = set(years[:-2]); years_valid = {years[-2]}; years_test = {years[-1]}\n",
    "        base = df2.copy()\n",
    "        train_idx = base[base[\"_year\"].isin(years_train)].index\n",
    "        valid_idx = base[base[\"_year\"].isin(years_valid)].index\n",
    "        test_idx  = base[base[\"_year\"].isin(years_test)].index\n",
    "\n",
    "    return train_idx, valid_idx, test_idx, years"
   ],
   "id": "30225c98037c5b7d",
   "outputs": [],
   "execution_count": 50
  },
  {
   "metadata": {
    "ExecuteTime": {
     "end_time": "2025-10-20T18:44:50.372554Z",
     "start_time": "2025-10-20T18:44:49.310289Z"
    }
   },
   "cell_type": "code",
   "source": "df = add_team_and_opponent_goals(df)",
   "id": "d6037f7471185fb",
   "outputs": [],
   "execution_count": 51
  },
  {
   "metadata": {
    "ExecuteTime": {
     "end_time": "2025-10-20T19:26:08.449184Z",
     "start_time": "2025-10-20T19:26:06.708587Z"
    }
   },
   "cell_type": "code",
   "source": [
    "df_with_form_temp = add_form(df, name_column='name')\n",
    "df_with_form_temp = normalize_position_column(df_with_form_temp)"
   ],
   "id": "cce2437360180eb9",
   "outputs": [
    {
     "name": "stdout",
     "output_type": "stream",
     "text": [
      "Form-added file saved to: /Users/youssefmalek/PycharmProjects/data/interim/dataset.csv\n"
     ]
    }
   ],
   "execution_count": 71
  },
  {
   "metadata": {},
   "cell_type": "markdown",
   "source": [
    "Let's first visualize:\n",
    "\n",
    "a. Across the seasons, which player positions (e.g., goalkeeper, defender,\n",
    "midfielder, etc.) score the largest sum of total points on average.\n",
    "\n",
    "b. Using the form feature, how did the performance of the top five players\n",
    "evolve across gameweeks during the 2022–23 FPL season? Are the top\n",
    "players in form the same top players with the highest total points."
   ],
   "id": "9f4c0c163fd72ab7"
  },
  {
   "metadata": {
    "ExecuteTime": {
     "end_time": "2025-10-20T19:42:19.889071Z",
     "start_time": "2025-10-20T19:42:19.740063Z"
    }
   },
   "cell_type": "code",
   "source": [
    "df_plot = (\n",
    "    df_with_form_temp\n",
    "    .groupby(['season_x', 'position'], as_index=False)['total_points']\n",
    "    .sum()\n",
    "    .sort_values(['season_x', 'total_points'], ascending=[True, False])\n",
    ")\n",
    "\n",
    "plt.figure(figsize=(10, 6))\n",
    "sns.barplot(\n",
    "    data=df_plot,\n",
    "    x='season_x',\n",
    "    y='total_points',\n",
    "    hue='position'\n",
    ")\n",
    "plt.title('Total Points by Position per Season')\n",
    "plt.xlabel('Season')\n",
    "plt.ylabel('Total Points')\n",
    "plt.legend(title='Position')\n",
    "plt.tight_layout()\n",
    "plt.show()\n"
   ],
   "id": "687e2d213be2aa7d",
   "outputs": [
    {
     "data": {
      "text/plain": [
       "<Figure size 1000x600 with 1 Axes>"
      ],
      "image/png": "[encoded data removed]"
     },
     "metadata": {},
     "output_type": "display_data"
    }
   ],
   "execution_count": 101
  },
  {
   "metadata": {},
   "cell_type": "markdown",
   "source": [
    "So it looks like It's always MID then DEF then FWD then finally GK but let's compute it to be sure.\n",
    "\n",
    "Looks like we were correct to assume that."
   ],
   "id": "bb76c34909890d66"
  },
  {
   "metadata": {
    "ExecuteTime": {
     "end_time": "2025-10-20T19:35:22.030254Z",
     "start_time": "2025-10-20T19:35:21.935356Z"
    }
   },
   "cell_type": "code",
   "source": [
    "avg_df = (\n",
    "    df_plot\n",
    "    .groupby('position', as_index=False)['total_points']\n",
    "    .mean()\n",
    "    .sort_values(['total_points'], ascending=False)\n",
    ")\n",
    "\n",
    "print(avg_df)\n",
    "\n",
    "plt.figure(figsize=(10, 6))\n",
    "sns.barplot(\n",
    "    data=avg_df,\n",
    "    x='position',\n",
    "    y='total_points',\n",
    ")\n",
    "plt.title('Average Points by Position per Season')\n",
    "plt.xlabel('Position')\n",
    "plt.ylabel('Total Points')\n",
    "plt.tight_layout()\n",
    "plt.show()"
   ],
   "id": "6069e70804a75b7e",
   "outputs": [
    {
     "name": "stdout",
     "output_type": "stream",
     "text": [
      "  position  total_points\n",
      "3      MID       11384.4\n",
      "0      DEF        8705.2\n",
      "1      FWD        3975.8\n",
      "2       GK        2463.2\n"
     ]
    },
    {
     "data": {
      "text/plain": [
       "<Figure size 1000x600 with 1 Axes>"
      ],
      "image/png": "[encoded data removed]"
     },
     "metadata": {},
     "output_type": "display_data"
    }
   ],
   "execution_count": 93
  },
  {
   "metadata": {},
   "cell_type": "markdown",
   "source": "Let's now look at how the form of the top 5 players evolved during the 22/23 Season.",
   "id": "738d58fa05dbeefd"
  },
  {
   "metadata": {},
   "cell_type": "markdown",
   "source": "Let's filter by season to get the 22-23 Season.",
   "id": "302fd8af53dd9e33"
  },
  {
   "metadata": {
    "ExecuteTime": {
     "end_time": "2025-10-20T19:36:43.106009Z",
     "start_time": "2025-10-20T19:36:43.076798Z"
    }
   },
   "cell_type": "code",
   "source": "season_df = df_with_form_temp[df_with_form_temp['season_x'] == '2022-23']\n",
   "id": "289962e10f6a63d3",
   "outputs": [],
   "execution_count": 94
  },
  {
   "metadata": {},
   "cell_type": "markdown",
   "source": "Let's now identify the top 5 Players -> Let's say that the top 5 players are the top 5 players according to total_points",
   "id": "17665f7e01e539a5"
  },
  {
   "metadata": {
    "ExecuteTime": {
     "end_time": "2025-10-20T19:37:45.836906Z",
     "start_time": "2025-10-20T19:37:45.825508Z"
    }
   },
   "cell_type": "code",
   "source": [
    "top5_players = (\n",
    "    season_df.groupby('name', as_index=False)['total_points']\n",
    "    .sum()\n",
    "    .sort_values('total_points', ascending=False)\n",
    "    .head(5)\n",
    ")\n",
    "\n",
    "print(top5_players)"
   ],
   "id": "8ea75d2cc8496a28",
   "outputs": [
    {
     "name": "stdout",
     "output_type": "stream",
     "text": [
      "                name  total_points\n",
      "210   Erling Haaland           272\n",
      "256       Harry Kane           263\n",
      "540    Mohamed Salah           239\n",
      "498  Martin Ødegaard           212\n",
      "490  Marcus Rashford           205\n"
     ]
    }
   ],
   "execution_count": 95
  },
  {
   "metadata": {},
   "cell_type": "markdown",
   "source": "Kinda Expected to see Haaland there haha, let's continue with the analysis",
   "id": "a49b00ac6b667670"
  },
  {
   "metadata": {},
   "cell_type": "markdown",
   "source": "Let's track the form over the Gameweek",
   "id": "62d6c149660d118f"
  },
  {
   "metadata": {
    "ExecuteTime": {
     "end_time": "2025-10-20T19:38:28.706194Z",
     "start_time": "2025-10-20T19:38:28.485447Z"
    }
   },
   "cell_type": "code",
   "source": [
    "top5_form_df = season_df[season_df['name'].isin(top5_players['name'])]\n",
    "\n",
    "plt.figure(figsize=(10,6))\n",
    "sns.lineplot(\n",
    "    data=top5_form_df,\n",
    "    x='round',\n",
    "    y='form',\n",
    "    hue='name',\n",
    "    marker='o'\n",
    ")\n",
    "plt.title('Form Evolution of Top 5 Players (2022–23 FPL Season)')\n",
    "plt.xlabel('Gameweek')\n",
    "plt.ylabel('Form')\n",
    "plt.grid(True, linestyle='--', alpha=0.5)\n",
    "plt.tight_layout()\n",
    "plt.show()"
   ],
   "id": "6d4fc5baf9d30427",
   "outputs": [
    {
     "data": {
      "text/plain": [
       "<Figure size 1000x600 with 1 Axes>"
      ],
      "image/png": "[encoded data removed]"
     },
     "metadata": {},
     "output_type": "display_data"
    }
   ],
   "execution_count": 96
  },
  {
   "metadata": {},
   "cell_type": "markdown",
   "source": "Looks interesting, lots of fluctuations there, looks like the most consistent was Harry Kane",
   "id": "925aa0508afdd44e"
  },
  {
   "metadata": {},
   "cell_type": "markdown",
   "source": "Let's now compute the average form per player and get the top 5 players with highest form.",
   "id": "3f36e27adbfb9679"
  },
  {
   "metadata": {
    "ExecuteTime": {
     "end_time": "2025-10-20T19:41:49.481549Z",
     "start_time": "2025-10-20T19:41:49.473248Z"
    }
   },
   "cell_type": "code",
   "source": [
    "avg_form = (\n",
    "    season_df.groupby('name', as_index=False)['form']\n",
    "    .mean()\n",
    "    .sort_values('form', ascending=False)\n",
    ")\n",
    "\n",
    "print(avg_form.head(5))"
   ],
   "id": "24211933999b8784",
   "outputs": [
    {
     "name": "stdout",
     "output_type": "stream",
     "text": [
      "                         name      form\n",
      "210            Erling Haaland  0.742763\n",
      "256                Harry Kane  0.635746\n",
      "540             Mohamed Salah  0.621272\n",
      "498           Martin Ødegaard  0.550658\n",
      "236  Gabriel Martinelli Silva  0.546930\n"
     ]
    }
   ],
   "execution_count": 100
  },
  {
   "metadata": {},
   "cell_type": "markdown",
   "source": "This shows that Players who had the highest total_points are usually the most in form.",
   "id": "eeda3d539eb2200f"
  },
  {
   "metadata": {},
   "cell_type": "markdown",
   "source": "Let's start our Data Cleaning and Feature Engineering",
   "id": "fb9b94c4a899898"
  },
  {
   "metadata": {},
   "cell_type": "markdown",
   "source": "We start our data cleaning process by dropping unused or redundant columns. For example, 'GW' is the same as round so we drop it and we drop team_a_score and team_h_score as we used them to feature engineer above.",
   "id": "4822f52051622209"
  },
  {
   "metadata": {
    "ExecuteTime": {
     "end_time": "2025-10-20T18:44:51.493561Z",
     "start_time": "2025-10-20T18:44:51.251690Z"
    }
   },
   "cell_type": "code",
   "source": [
    "cols_to_drop = [\n",
    "    \"selected\", \"transfers_in\", \"transfers_out\",\n",
    "    \"transfers_balance\", \"GW\", 'element',\n",
    "    'fixture', 'kickoff_time', 'opponent_team', 'team_a_score',\n",
    "    'team_h_score', 'influence', 'opp_team_name', 'own_goals', 'creativity',\n",
    "    'threat', 'team_x'\n",
    "]\n",
    "\n",
    "df_cleaned = drop_columns_save_interim(df, cols_to_drop)"
   ],
   "id": "c3dd767f9ca12e67",
   "outputs": [
    {
     "name": "stdout",
     "output_type": "stream",
     "text": [
      "Cleaned file saved to: /Users/youssefmalek/PycharmProjects/data/interim/dataset_post_drop.csv\n"
     ]
    }
   ],
   "execution_count": 52
  },
  {
   "metadata": {},
   "cell_type": "markdown",
   "source": "We then normalize the position column to transform values from 'GKP' to 'GK' as both refer to the same thing.",
   "id": "f2c08165dce0a64b"
  },
  {
   "metadata": {
    "ExecuteTime": {
     "end_time": "2025-10-20T18:44:52.250156Z",
     "start_time": "2025-10-20T18:44:52.008237Z"
    }
   },
   "cell_type": "code",
   "source": "df_cleaned = normalize_position_column(df_cleaned)",
   "id": "4ffc8303e2940afb",
   "outputs": [],
   "execution_count": 53
  },
  {
   "metadata": {},
   "cell_type": "markdown",
   "source": "We encode the name column as machine learning models don't understand strings rather numbers and it is a categorical feature.",
   "id": "75b4d95f5498e411"
  },
  {
   "metadata": {
    "ExecuteTime": {
     "end_time": "2025-10-20T18:44:52.745895Z",
     "start_time": "2025-10-20T18:44:52.502161Z"
    }
   },
   "cell_type": "code",
   "source": "df_label_encoded, le_name = label_encode_column(df_cleaned, column=\"name\")",
   "id": "88a10c21305bd05c",
   "outputs": [
    {
     "name": "stdout",
     "output_type": "stream",
     "text": [
      "Column 'name' label-encoded → new column 'name_encoded'\n"
     ]
    }
   ],
   "execution_count": 54
  },
  {
   "metadata": {},
   "cell_type": "markdown",
   "source": "We one-hot encode our now normalized position column as it is a categorical feature and we wouldn't want the model to think that MidLaner is better than Goalkeeper if we LabelEncode and set DropFirst to true.",
   "id": "285cc2ceb56173ca"
  },
  {
   "metadata": {
    "ExecuteTime": {
     "end_time": "2025-10-20T18:44:53.151327Z",
     "start_time": "2025-10-20T18:44:52.868009Z"
    }
   },
   "cell_type": "code",
   "source": [
    "cols_to_one_hot_encode = [\n",
    "    \"position\",\n",
    "]\n",
    "\n",
    "df_one_hot_encoded = one_hot_encode_columns(df_label_encoded, cols_to_one_hot_encode)"
   ],
   "id": "82b1b429f8dec0f",
   "outputs": [],
   "execution_count": 55
  },
  {
   "metadata": {},
   "cell_type": "markdown",
   "source": "We map these columns from True/False to 1/0.",
   "id": "2ae899800a1ca62"
  },
  {
   "metadata": {
    "ExecuteTime": {
     "end_time": "2025-10-20T18:44:53.555065Z",
     "start_time": "2025-10-20T18:44:53.241751Z"
    }
   },
   "cell_type": "code",
   "source": [
    "cols_to_map_to_int = [\n",
    "    'was_home', 'position_FWD', 'position_MID', 'position_GK',\n",
    "]\n",
    "\n",
    "df_mapped = map_bool_to_int(df_one_hot_encoded, cols_to_map_to_int)"
   ],
   "id": "7d5190862c2b94c0",
   "outputs": [],
   "execution_count": 56
  },
  {
   "metadata": {},
   "cell_type": "markdown",
   "source": "We add the form column.",
   "id": "eca38c93c1c23edd"
  },
  {
   "metadata": {
    "ExecuteTime": {
     "end_time": "2025-10-20T18:44:54.215108Z",
     "start_time": "2025-10-20T18:44:53.609707Z"
    }
   },
   "cell_type": "code",
   "source": "df_with_form = add_form(df_mapped)",
   "id": "361bf8d452125b94",
   "outputs": [
    {
     "name": "stdout",
     "output_type": "stream",
     "text": [
      "Form-added file saved to: /Users/youssefmalek/PycharmProjects/data/interim/dataset.csv\n"
     ]
    }
   ],
   "execution_count": 57
  },
  {
   "metadata": {},
   "cell_type": "markdown",
   "source": "We add new features for each of these columns called lagged features. Meaning that during prediction the model can have information for the performance of a player during Game weeks before the current.",
   "id": "aaf0d959ec81222c"
  },
  {
   "metadata": {
    "ExecuteTime": {
     "end_time": "2025-10-20T18:44:55.019873Z",
     "start_time": "2025-10-20T18:44:54.280188Z"
    }
   },
   "cell_type": "code",
   "source": [
    "cols_to_add_lag = [\n",
    "    'assists', 'bonus', 'bps', 'clean_sheets',\n",
    "    'goals_conceded', 'goals_scored', 'ict_index',\n",
    "    'minutes', 'saves', 'yellow_cards', 'ally_goals', 'opponent_goals',\n",
    "]\n",
    "\n",
    "df_with_lagged_features = add_lag_features(df_with_form, cols_to_add_lag)"
   ],
   "id": "d65199cae91ecc5f",
   "outputs": [],
   "execution_count": 58
  },
  {
   "metadata": {},
   "cell_type": "markdown",
   "source": "",
   "id": "b986522ab6f4c553"
  },
  {
   "metadata": {},
   "cell_type": "markdown",
   "source": "We print the Columns in our cleaned dataset.",
   "id": "531f77d9cbfab929"
  },
  {
   "metadata": {
    "ExecuteTime": {
     "end_time": "2025-10-20T18:44:55.046595Z",
     "start_time": "2025-10-20T18:44:55.044494Z"
    }
   },
   "cell_type": "code",
   "source": [
    "print(f\"Number of Columns in our cleaned dataset: {df_with_lagged_features.columns.value_counts().count()}\")\n",
    "print(df_with_lagged_features.columns)"
   ],
   "id": "87823b71ebe62fe3",
   "outputs": [
    {
     "name": "stdout",
     "output_type": "stream",
     "text": [
      "Number of Columns in our cleaned dataset: 49\n",
      "Index(['season_x', 'assists', 'bonus', 'bps', 'clean_sheets', 'goals_conceded',\n",
      "       'goals_scored', 'ict_index', 'minutes', 'penalties_missed',\n",
      "       'penalties_saved', 'red_cards', 'round', 'saves', 'total_points',\n",
      "       'value', 'was_home', 'yellow_cards', 'ally_goals', 'opponent_goals',\n",
      "       'name_encoded', 'position_FWD', 'position_GK', 'position_MID', 'form',\n",
      "       'assists_lag1', 'assists_lag2', 'bonus_lag1', 'bonus_lag2', 'bps_lag1',\n",
      "       'bps_lag2', 'clean_sheets_lag1', 'clean_sheets_lag2',\n",
      "       'goals_conceded_lag1', 'goals_conceded_lag2', 'goals_scored_lag1',\n",
      "       'goals_scored_lag2', 'ict_index_lag1', 'ict_index_lag2', 'minutes_lag1',\n",
      "       'minutes_lag2', 'saves_lag1', 'saves_lag2', 'yellow_cards_lag1',\n",
      "       'yellow_cards_lag2', 'ally_goals_lag1', 'ally_goals_lag2',\n",
      "       'opponent_goals_lag1', 'opponent_goals_lag2'],\n",
      "      dtype='object')\n"
     ]
    }
   ],
   "execution_count": 59
  },
  {
   "metadata": {},
   "cell_type": "markdown",
   "source": "Now we add our target feature, our Y, which is what we are trying to predict. It is just total_points shifted upwards by 1 and we drop total_points to stop model peeking!\n",
   "id": "8ef11ec31ae8e89c"
  },
  {
   "metadata": {
    "ExecuteTime": {
     "end_time": "2025-10-20T18:44:55.175298Z",
     "start_time": "2025-10-20T18:44:55.109539Z"
    }
   },
   "cell_type": "code",
   "source": [
    "df_with_target = add_upcoming_total_points(df_with_lagged_features)\n",
    "\n",
    "X, y = build_xy(df_with_target, keep_player_id=True, player_col=\"name_encoded\")\n",
    "\n",
    "X = X.drop(columns=['total_points'])"
   ],
   "id": "a44b2397b24987d8",
   "outputs": [],
   "execution_count": 60
  },
  {
   "metadata": {},
   "cell_type": "markdown",
   "source": [
    "We split the data into 3 sets - Train, Validation and Test and we split by season so for example in our data there are 5 seasons, we split the data into Training: 3 Seasons Validation: 1 Season, Test: 1 Season to respect the temporal flow.\n",
    "\n",
    "We note in our report the performance of the model if we follow a naive 80:10:10 split."
   ],
   "id": "377e78d4a3ee2adf"
  },
  {
   "metadata": {
    "ExecuteTime": {
     "end_time": "2025-10-20T18:44:55.456129Z",
     "start_time": "2025-10-20T18:44:55.348354Z"
    }
   },
   "cell_type": "code",
   "source": [
    "train_idx, valid_idx, test_idx, years_sorted = auto_global_temporal_split_inseason(\n",
    "    df_with_target,\n",
    "    season_col=\"season_x\",\n",
    "    week_col=\"round\",\n",
    "    train_frac=0.8, valid_frac=0.1, test_frac=0.1,\n",
    "    split_train_valid=True, ratio_train_valid=0.8,\n",
    "    split_valid_test=True, ratio_valid_test=0.5,\n",
    ")\n",
    "\n",
    "_ = summarize_round_splits(\n",
    "    df=df_with_target,\n",
    "    train_idx=train_idx,\n",
    "    valid_idx=valid_idx,\n",
    "    test_idx=test_idx,\n",
    "    season_col=\"season_x\",\n",
    "    week_col=\"round\",\n",
    ")\n",
    "\n",
    "X_train, y_train = X.loc[train_idx].copy(), y.loc[train_idx].copy()\n",
    "X_valid, y_valid = X.loc[valid_idx].copy(), y.loc[valid_idx].copy()\n",
    "X_test, y_test = X.loc[test_idx].copy(), y.loc[test_idx].copy()"
   ],
   "id": "675f3341e8aac9e2",
   "outputs": [
    {
     "name": "stdout",
     "output_type": "stream",
     "text": [
      "\n",
      "Round allocation by season (min–max rounds per subset):\n",
      "  2016-17: TRAIN 1–37 (37) | VALID — (0) | TEST — (0) | order_ok=True\n",
      "  2017-18: TRAIN 1–37 (37) | VALID — (0) | TEST — (0) | order_ok=True\n",
      "  2020-21: TRAIN 1–38 (38) | VALID — (0) | TEST — (0) | order_ok=True\n",
      "  2021-22: TRAIN 1–30 (30) | VALID 31–38 (8) | TEST — (0) | order_ok=True\n",
      "  2022-23: TRAIN — (0) | VALID 1–19 (18) | TEST 20–38 (19) | order_ok=True\n"
     ]
    }
   ],
   "execution_count": 61
  },
  {
   "metadata": {},
   "cell_type": "markdown",
   "source": "Let's drop the name column as we won't use it in the rest of our pipeline only for checking performance on seen players vs non-seen players during training - the Cold Start Problem",
   "id": "fe23381a58ce2dbb"
  },
  {
   "metadata": {
    "ExecuteTime": {
     "end_time": "2025-10-20T18:44:55.728661Z",
     "start_time": "2025-10-20T18:44:55.702716Z"
    }
   },
   "cell_type": "code",
   "source": [
    "train_names = X_train[\"name_encoded\"].copy()\n",
    "test_names = X_test[\"name_encoded\"].copy()\n",
    "\n",
    "X_train = X_train.drop(columns=[\"name_encoded\"], errors=\"ignore\")\n",
    "X_valid = X_valid.drop(columns=[\"name_encoded\"], errors=\"ignore\")\n",
    "X_test = X_test.drop(columns=[\"name_encoded\"], errors=\"ignore\")"
   ],
   "id": "433138f4f82409e6",
   "outputs": [],
   "execution_count": 62
  },
  {
   "metadata": {
    "ExecuteTime": {
     "end_time": "2025-10-20T18:44:55.981195Z",
     "start_time": "2025-10-20T18:44:55.978732Z"
    }
   },
   "cell_type": "code",
   "source": [
    "print(f\"Seasons by start year (chronological): {years_sorted}\")\n",
    "print(f\"Train rows: {len(X_train)}, Valid rows: {len(X_valid)}, Test rows: {len(X_test)}\")"
   ],
   "id": "b1c31711ced70bc6",
   "outputs": [
    {
     "name": "stdout",
     "output_type": "stream",
     "text": [
      "Seasons by start year (chronological): [2016, 2017, 2020, 2021, 2022]\n",
      "Train rows: 61684, Valid rows: 17251, Test rows: 14452\n"
     ]
    }
   ],
   "execution_count": 63
  },
  {
   "metadata": {},
   "cell_type": "markdown",
   "source": [
    "Let's train a FFNN on our Data and evaluate it.\n",
    "\n",
    "We use early stopping to avoid training without validation MAE improvement and we output our metrics for R2, RMSE, MSE and MAE"
   ],
   "id": "665d35d14685cdc3"
  },
  {
   "metadata": {
    "ExecuteTime": {
     "end_time": "2025-10-20T18:45:05.446077Z",
     "start_time": "2025-10-20T18:44:56.489744Z"
    }
   },
   "cell_type": "code",
   "source": [
    "model_ffnn = train_ffnn(X_train, y_train, X_valid, y_valid)\n",
    "evaluate_model(model_ffnn, X_test, y_test, X_train, y_train, X_valid, y_valid)"
   ],
   "id": "16f52d01b00dfb08",
   "outputs": [
    {
     "name": "stderr",
     "output_type": "stream",
     "text": [
      "WARNING:absl:At this time, the v2.11+ optimizer `tf.keras.optimizers.Adam` runs slowly on M1/M2 Macs, please use the legacy TF-Keras optimizer instead, located at `tf.keras.optimizers.legacy.Adam`.\n"
     ]
    },
    {
     "name": "stdout",
     "output_type": "stream",
     "text": [
      "\n",
      "📊 Evaluation Metrics:\n",
      "  TRAIN:  MAE=1.2669  RMSE=2.2027  R2=0.2954\n",
      "  VALID:  MAE=1.0975  RMSE=2.0475  R2=0.2938\n",
      "  TEST:  MAE=0.9819  RMSE=1.9034  R2=0.3035\n"
     ]
    },
    {
     "data": {
      "text/plain": [
       "{'train': {'MAE': 1.2668677149875593,\n",
       "  'MSE': 4.851677338091797,\n",
       "  'RMSE': 2.2026523416308343,\n",
       "  'R2': 0.29537509566171427},\n",
       " 'valid': {'MAE': 1.097534634580839,\n",
       "  'MSE': 4.192109439402254,\n",
       "  'RMSE': 2.0474641485023013,\n",
       "  'R2': 0.29384244671956894},\n",
       " 'test': {'MAE': 0.9819226422422654,\n",
       "  'MSE': 3.62298812372517,\n",
       "  'RMSE': 1.903414858543762,\n",
       "  'R2': 0.30349618106008347}}"
      ]
     },
     "execution_count": 64,
     "metadata": {},
     "output_type": "execute_result"
    }
   ],
   "execution_count": 64
  },
  {
   "metadata": {},
   "cell_type": "markdown",
   "source": "We also report on the metrics of seen players vs unseen players in the test dataset.",
   "id": "fecbd4027f275ea7"
  },
  {
   "metadata": {
    "ExecuteTime": {
     "end_time": "2025-10-20T18:45:05.651420Z",
     "start_time": "2025-10-20T18:45:05.463199Z"
    }
   },
   "cell_type": "code",
   "source": [
    "seen_players = set(train_names.unique())\n",
    "test_seen_mask = test_names.isin(seen_players)\n",
    "test_cold_mask = ~test_seen_mask\n",
    "\n",
    "print(\"\\n Test composition:\")\n",
    "print(f\"  Seen players rows:      {int(test_seen_mask.sum())}\")\n",
    "print(f\"  Cold-start players rows: {int(test_cold_mask.sum())}\")\n",
    "\n",
    "def eval_subset(model, X_te, y_te, mask, label: str):\n",
    "    n = int(mask.sum())\n",
    "    if n == 0:\n",
    "        print(f\"{label}: no rows.\")\n",
    "        return\n",
    "\n",
    "    metrics = evaluate_model(model, X_te[mask], y_te[mask])\n",
    "    print(f\"{label}: n={n} | {metrics}\")\n",
    "\n",
    "print(\"\\nFFNN — Seen vs Cold-start:\")\n",
    "eval_subset(model_ffnn, X_test, y_test, test_seen_mask, \"TEST (seen players)\")\n",
    "eval_subset(model_ffnn, X_test, y_test, test_cold_mask, \"TEST (cold-start players)\")"
   ],
   "id": "4ab330b238dbfe32",
   "outputs": [
    {
     "name": "stdout",
     "output_type": "stream",
     "text": [
      "\n",
      " Test composition:\n",
      "  Seen players rows:      8687\n",
      "  Cold-start players rows: 5765\n",
      "\n",
      "FFNN — Seen vs Cold-start:\n",
      "\n",
      "📊 Evaluation Metrics:\n",
      "  TEST:  MAE=1.0799  RMSE=2.0177  R2=0.2937\n",
      "TEST (seen players): n=8687 | {'test': {'MAE': 1.0799265269053275, 'MSE': 4.071019423291186, 'RMSE': 2.017676739046963, 'R2': 0.29370531984151094}}\n",
      "\n",
      "📊 Evaluation Metrics:\n",
      "  TEST:  MAE=0.8342  RMSE=1.7169  R2=0.3141\n",
      "TEST (cold-start players): n=5765 | {'test': {'MAE': 0.8342453229031869, 'MSE': 2.9478714022766868, 'RMSE': 1.716936633157056, 'R2': 0.31414547554837813}}\n"
     ]
    }
   ],
   "execution_count": 65
  }
 ],
 "metadata": {
  "kernelspec": {
   "display_name": "Python 3",
   "language": "python",
   "name": "python3"
  },
  "language_info": {
   "codemirror_mode": {
    "name": "ipython",
    "version": 2
   },
   "file_extension": ".py",
   "mimetype": "text/x-python",
   "name": "python",
   "nbconvert_exporter": "python",
   "pygments_lexer": "ipython2",
   "version": "2.7.6"
  }
 },
 "nbformat": 4,
 "nbformat_minor": 5
}
